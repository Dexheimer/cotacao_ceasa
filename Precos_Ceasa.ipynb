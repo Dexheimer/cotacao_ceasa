{
  "nbformat": 4,
  "nbformat_minor": 0,
  "metadata": {
    "colab": {
      "provenance": [],
      "authorship_tag": "ABX9TyOOHM41RlqPIkuj8POOhpzd",
      "include_colab_link": true
    },
    "kernelspec": {
      "name": "python3",
      "display_name": "Python 3"
    },
    "language_info": {
      "name": "python"
    }
  },
  "cells": [
    {
      "cell_type": "markdown",
      "metadata": {
        "id": "view-in-github",
        "colab_type": "text"
      },
      "source": [
        "<a href=\"https://colab.research.google.com/github/Dexheimer/cotacao_ceasa/blob/main/Precos_Ceasa.ipynb\" target=\"_parent\"><img src=\"https://colab.research.google.com/assets/colab-badge.svg\" alt=\"Open In Colab\"/></a>"
      ]
    },
    {
      "cell_type": "markdown",
      "source": [
        "# 1. Configurações Iniciais\n",
        "Criar um arquivo ou célula para as bibliotecas, configurações e funções auxiliares."
      ],
      "metadata": {
        "id": "qanIwuepFm4V"
      }
    },
    {
      "cell_type": "code",
      "execution_count": 1,
      "metadata": {
        "colab": {
          "base_uri": "https://localhost:8080/"
        },
        "id": "j8cYEC-2Gpym",
        "outputId": "6ffcaa6b-7158-4a88-c975-28ec912c316d"
      },
      "outputs": [
        {
          "output_type": "stream",
          "name": "stdout",
          "text": [
            "Collecting pdfplumber\n",
            "  Downloading pdfplumber-0.11.4-py3-none-any.whl.metadata (41 kB)\n",
            "\u001b[?25l     \u001b[90m━━━━━━━━━━━━━━━━━━━━━━━━━━━━━━━━━━━━━━━━\u001b[0m \u001b[32m0.0/42.0 kB\u001b[0m \u001b[31m?\u001b[0m eta \u001b[36m-:--:--\u001b[0m\r\u001b[2K     \u001b[90m━━━━━━━━━━━━━━━━━━━━━━━━━━━━━━━━━━━━━━━━\u001b[0m \u001b[32m42.0/42.0 kB\u001b[0m \u001b[31m1.7 MB/s\u001b[0m eta \u001b[36m0:00:00\u001b[0m\n",
            "\u001b[?25hRequirement already satisfied: requests in /usr/local/lib/python3.10/dist-packages (2.32.3)\n",
            "Requirement already satisfied: beautifulsoup4 in /usr/local/lib/python3.10/dist-packages (4.12.3)\n",
            "Requirement already satisfied: pandas in /usr/local/lib/python3.10/dist-packages (2.2.2)\n",
            "Collecting pdfminer.six==20231228 (from pdfplumber)\n",
            "  Downloading pdfminer.six-20231228-py3-none-any.whl.metadata (4.2 kB)\n",
            "Requirement already satisfied: Pillow>=9.1 in /usr/local/lib/python3.10/dist-packages (from pdfplumber) (11.0.0)\n",
            "Collecting pypdfium2>=4.18.0 (from pdfplumber)\n",
            "  Downloading pypdfium2-4.30.0-py3-none-manylinux_2_17_x86_64.manylinux2014_x86_64.whl.metadata (48 kB)\n",
            "\u001b[2K     \u001b[90m━━━━━━━━━━━━━━━━━━━━━━━━━━━━━━━━━━━━━━━━\u001b[0m \u001b[32m48.5/48.5 kB\u001b[0m \u001b[31m1.5 MB/s\u001b[0m eta \u001b[36m0:00:00\u001b[0m\n",
            "\u001b[?25hRequirement already satisfied: charset-normalizer>=2.0.0 in /usr/local/lib/python3.10/dist-packages (from pdfminer.six==20231228->pdfplumber) (3.4.0)\n",
            "Requirement already satisfied: cryptography>=36.0.0 in /usr/local/lib/python3.10/dist-packages (from pdfminer.six==20231228->pdfplumber) (43.0.3)\n",
            "Requirement already satisfied: idna<4,>=2.5 in /usr/local/lib/python3.10/dist-packages (from requests) (3.10)\n",
            "Requirement already satisfied: urllib3<3,>=1.21.1 in /usr/local/lib/python3.10/dist-packages (from requests) (2.2.3)\n",
            "Requirement already satisfied: certifi>=2017.4.17 in /usr/local/lib/python3.10/dist-packages (from requests) (2024.8.30)\n",
            "Requirement already satisfied: soupsieve>1.2 in /usr/local/lib/python3.10/dist-packages (from beautifulsoup4) (2.6)\n",
            "Requirement already satisfied: numpy>=1.22.4 in /usr/local/lib/python3.10/dist-packages (from pandas) (1.26.4)\n",
            "Requirement already satisfied: python-dateutil>=2.8.2 in /usr/local/lib/python3.10/dist-packages (from pandas) (2.8.2)\n",
            "Requirement already satisfied: pytz>=2020.1 in /usr/local/lib/python3.10/dist-packages (from pandas) (2024.2)\n",
            "Requirement already satisfied: tzdata>=2022.7 in /usr/local/lib/python3.10/dist-packages (from pandas) (2024.2)\n",
            "Requirement already satisfied: six>=1.5 in /usr/local/lib/python3.10/dist-packages (from python-dateutil>=2.8.2->pandas) (1.16.0)\n",
            "Requirement already satisfied: cffi>=1.12 in /usr/local/lib/python3.10/dist-packages (from cryptography>=36.0.0->pdfminer.six==20231228->pdfplumber) (1.17.1)\n",
            "Requirement already satisfied: pycparser in /usr/local/lib/python3.10/dist-packages (from cffi>=1.12->cryptography>=36.0.0->pdfminer.six==20231228->pdfplumber) (2.22)\n",
            "Downloading pdfplumber-0.11.4-py3-none-any.whl (59 kB)\n",
            "\u001b[2K   \u001b[90m━━━━━━━━━━━━━━━━━━━━━━━━━━━━━━━━━━━━━━━━\u001b[0m \u001b[32m59.2/59.2 kB\u001b[0m \u001b[31m4.0 MB/s\u001b[0m eta \u001b[36m0:00:00\u001b[0m\n",
            "\u001b[?25hDownloading pdfminer.six-20231228-py3-none-any.whl (5.6 MB)\n",
            "\u001b[2K   \u001b[90m━━━━━━━━━━━━━━━━━━━━━━━━━━━━━━━━━━━━━━━━\u001b[0m \u001b[32m5.6/5.6 MB\u001b[0m \u001b[31m32.9 MB/s\u001b[0m eta \u001b[36m0:00:00\u001b[0m\n",
            "\u001b[?25hDownloading pypdfium2-4.30.0-py3-none-manylinux_2_17_x86_64.manylinux2014_x86_64.whl (2.8 MB)\n",
            "\u001b[2K   \u001b[90m━━━━━━━━━━━━━━━━━━━━━━━━━━━━━━━━━━━━━━━━\u001b[0m \u001b[32m2.8/2.8 MB\u001b[0m \u001b[31m46.1 MB/s\u001b[0m eta \u001b[36m0:00:00\u001b[0m\n",
            "\u001b[?25hInstalling collected packages: pypdfium2, pdfminer.six, pdfplumber\n",
            "Successfully installed pdfminer.six-20231228 pdfplumber-0.11.4 pypdfium2-4.30.0\n"
          ]
        }
      ],
      "source": [
        "# Instalar as bibliotecas necessárias\n",
        "!pip install pdfplumber requests beautifulsoup4 pandas\n",
        "\n",
        "# Importar as bibliotecas\n",
        "import requests\n",
        "import pandas as pd\n",
        "import pdfplumber\n",
        "import os\n",
        "from bs4 import BeautifulSoup\n",
        "from datetime import datetime\n",
        "\n",
        "# configurações iniciais\n",
        "\n",
        "base_url = \"https://www.rj.gov.br/ceasa/node/388\"\n",
        "base_prefix = \"https://www.rj.gov.br\"\n",
        "output_dir = \"ceasa_pdfs\"\n",
        "csv_output = \"cotacoes_ceasa.csv\"\n",
        "\n"
      ]
    },
    {
      "cell_type": "markdown",
      "source": [
        "# 2 Criar diretório"
      ],
      "metadata": {
        "id": "ln_o23Xu3lUH"
      }
    },
    {
      "cell_type": "code",
      "source": [
        "# Função para Criar Diretórios\n",
        "\n",
        "def create_directory(path):\n",
        "    \"\"\"Cria um diretório se ele não existir.\"\"\"\n",
        "    if not os.path.exists(path):\n",
        "        os.makedirs(path)\n",
        "        print(f\"Diretório criado: {path}\")\n",
        "    else:\n",
        "        print(f\"Diretório já existe: {path}\")"
      ],
      "metadata": {
        "id": "zCUEPd3K3opn"
      },
      "execution_count": 2,
      "outputs": []
    },
    {
      "cell_type": "code",
      "source": [
        "# Testar a criação de diretório\n",
        "\n",
        "test_dir = \"teste_diretorio\"\n",
        "create_directory(test_dir)\n",
        "assert os.path.exists(test_dir), \"O diretório não foi criado corretamente.\"\n",
        "print(\"Teste de criação de diretório concluído com sucesso!\")\n",
        "os.rmdir(test_dir)  # Limpar após o teste"
      ],
      "metadata": {
        "colab": {
          "base_uri": "https://localhost:8080/"
        },
        "id": "TLXiyfw75L0G",
        "outputId": "c5c9314a-bb9c-4d6d-a8ab-b8fbc93625a1"
      },
      "execution_count": 3,
      "outputs": [
        {
          "output_type": "stream",
          "name": "stdout",
          "text": [
            "Diretório criado: teste_diretorio\n",
            "Teste de criação de diretório concluído com sucesso!\n"
          ]
        }
      ]
    },
    {
      "cell_type": "markdown",
      "source": [
        "# 3. Coletar Links dos Meses\n",
        "E testar os links para os meses"
      ],
      "metadata": {
        "id": "dll1vDEAF0w7"
      }
    },
    {
      "cell_type": "code",
      "source": [
        "def get_month_links(base_url, base_prefix):\n",
        "    \"\"\"\n",
        "    Acessa a página principal e retorna uma lista de dicionários com links e textos dos meses.\n",
        "    URLs relativas são ajustadas para incluir o prefixo completo.\n",
        "    \"\"\"\n",
        "    response = requests.get(base_url)\n",
        "    response.raise_for_status()\n",
        "    soup = BeautifulSoup(response.content, 'html.parser')\n",
        "\n",
        "    # Focar na div específica onde os links estão localizados\n",
        "    section = soup.find(\"div\", {\"property\": \"schema:text\"})\n",
        "\n",
        "    # Verificar se a seção foi encontrada\n",
        "    if section:\n",
        "        links = section.find_all(\"a\", href=True)\n",
        "        month_links = []\n",
        "\n",
        "        for link in links:\n",
        "            url = link['href']\n",
        "            # Adicionar o prefixo base para URLs relativas\n",
        "            if not url.startswith(\"http\"):\n",
        "                url = f\"{base_prefix}{url}\"\n",
        "            month_links.append({\"url\": url, \"text\": link.text.strip()})\n",
        "\n",
        "        return month_links\n",
        "    else:\n",
        "        print(\"Seção com links não encontrada.\")\n",
        "        return []\n",
        "\n"
      ],
      "metadata": {
        "id": "keLXw32dMAgS"
      },
      "execution_count": 4,
      "outputs": []
    },
    {
      "cell_type": "code",
      "source": [
        "# Testar a coleta de links\n",
        "month_links = get_month_links(base_url, base_prefix)\n",
        "assert isinstance(month_links, list), \"Os links dos meses não foram coletados corretamente.\"\n",
        "assert all(\"url\" in link and \"text\" in link for link in month_links), \"Estrutura dos links está incorreta.\"\n",
        "assert all(link[\"url\"].startswith(\"http\") for link in month_links), \"Algumas URLs não foram corrigidas.\"\n",
        "print(f\"Teste de coleta de links dos meses concluído! {(month_links)} links encontrados.\")\n"
      ],
      "metadata": {
        "colab": {
          "base_uri": "https://localhost:8080/"
        },
        "id": "qaOF5WD25bBA",
        "outputId": "3c750e52-89a5-426b-9f8f-63a4c1622472"
      },
      "execution_count": 6,
      "outputs": [
        {
          "output_type": "stream",
          "name": "stdout",
          "text": [
            "Teste de coleta de links dos meses concluído! [{'url': 'https://www.rj.gov.br/ceasa/node/495', 'text': 'Dezembro'}, {'url': 'https://www.rj.gov.br/ceasa/node/491', 'text': 'Novembro'}, {'url': 'https://www.rj.gov.br/ceasa/node/452', 'text': 'Outubro'}, {'url': 'https://www.rj.gov.br/ceasa/node/446', 'text': 'Setembro'}, {'url': 'https://www.rj.gov.br/ceasa/node/436', 'text': 'Agosto'}, {'url': 'https://www.rj.gov.br/ceasa/node/425', 'text': 'Julho'}, {'url': 'https://www.rj.gov.br/ceasa/node/403', 'text': 'Junho'}, {'url': 'https://www.rj.gov.br/ceasa/node/396', 'text': 'Maio'}, {'url': 'https://www.rj.gov.br/ceasa/node/395', 'text': 'Abril'}, {'url': 'https://www.rj.gov.br/ceasa/node/392', 'text': 'Março'}, {'url': 'https://www.rj.gov.br/ceasa/node/391', 'text': 'Fevereiro'}, {'url': 'https://www.rj.gov.br/ceasa/node/387', 'text': 'Janeiro'}] links encontrados.\n"
          ]
        }
      ]
    },
    {
      "cell_type": "code",
      "source": [
        "print(month_links)"
      ],
      "metadata": {
        "colab": {
          "base_uri": "https://localhost:8080/"
        },
        "id": "5EkZ0TG5ciRa",
        "outputId": "42032102-e817-46b0-f091-e6b818452a33"
      },
      "execution_count": 7,
      "outputs": [
        {
          "output_type": "stream",
          "name": "stdout",
          "text": [
            "[{'url': 'https://www.rj.gov.br/ceasa/node/495', 'text': 'Dezembro'}, {'url': 'https://www.rj.gov.br/ceasa/node/491', 'text': 'Novembro'}, {'url': 'https://www.rj.gov.br/ceasa/node/452', 'text': 'Outubro'}, {'url': 'https://www.rj.gov.br/ceasa/node/446', 'text': 'Setembro'}, {'url': 'https://www.rj.gov.br/ceasa/node/436', 'text': 'Agosto'}, {'url': 'https://www.rj.gov.br/ceasa/node/425', 'text': 'Julho'}, {'url': 'https://www.rj.gov.br/ceasa/node/403', 'text': 'Junho'}, {'url': 'https://www.rj.gov.br/ceasa/node/396', 'text': 'Maio'}, {'url': 'https://www.rj.gov.br/ceasa/node/395', 'text': 'Abril'}, {'url': 'https://www.rj.gov.br/ceasa/node/392', 'text': 'Março'}, {'url': 'https://www.rj.gov.br/ceasa/node/391', 'text': 'Fevereiro'}, {'url': 'https://www.rj.gov.br/ceasa/node/387', 'text': 'Janeiro'}]\n"
          ]
        }
      ]
    },
    {
      "cell_type": "markdown",
      "source": [
        "# 4. Função para Extrair Links de PDFs"
      ],
      "metadata": {
        "id": "fiECP--395rz"
      }
    },
    {
      "cell_type": "code",
      "source": [
        "# Função para coletar os links de todos os meses\n",
        "\n",
        "def process_all_months(base_url, base_prefix):\n",
        "    month_links = get_month_links(base_url, base_prefix)\n",
        "    all_pdfs = []\n",
        "\n",
        "    for month in month_links:\n",
        "        pdf_links = get_daily_pdf_links(month['url'], month['text'], base_prefix)\n",
        "        print(f\"{len(pdf_links)} PDFs encontrados para {month['text']}.\")\n",
        "        all_pdfs.extend(pdf_links)\n",
        "\n",
        "    print(f\"Total de PDFs encontrados: {len(all_pdfs)}.\")\n",
        "\n",
        "\n"
      ],
      "metadata": {
        "id": "ZtnEsHqa94Yz"
      },
      "execution_count": 20,
      "outputs": []
    },
    {
      "cell_type": "code",
      "source": [
        "# Função para acessar uma página do mês e retornar os links para os PDFs diários associados ao mês\n",
        "\n",
        "from urllib.parse import urljoin\n",
        "\n",
        "def get_daily_pdf_links(month_url, month_name, base_prefix):\n",
        "\n",
        "    response = requests.get(month_url)\n",
        "    response.raise_for_status()\n",
        "    soup = BeautifulSoup(response.content, 'html.parser')\n",
        "\n",
        "    # Depurar o HTML da página\n",
        "    print(f\"HTML da página {month_name} (primeiros 500 caracteres):\\n\", soup.prettify()[:500])\n",
        "\n",
        "    # Encontrar todos os links para arquivos PDF\n",
        "    pdf_links = [\n",
        "        {\"url\": urljoin(base_prefix, link['href']), \"month\": month_name}\n",
        "        for link in soup.find_all(\"a\", href=True)\n",
        "        if \".pdf\" in link['href'].lower()\n",
        "    ]\n",
        "\n",
        "    # Depurar os links extraídos\n",
        "    print(f\"PDF links extraídos para {month_name}: {pdf_links}\")\n",
        "    return pdf_links"
      ],
      "metadata": {
        "id": "li7PdXR1-EtJ"
      },
      "execution_count": 22,
      "outputs": []
    },
    {
      "cell_type": "code",
      "source": [
        "# Testes da função get_daily_pdf_links\n",
        "\n",
        "test_month_url = \"https://www.rj.gov.br/ceasa/node/452\"  # URL para Outubro\n",
        "test_month_name = \"Outubro\"\n",
        "base_prefix = \"https://www.rj.gov.br\"\n",
        "\n",
        "# Executar o teste\n",
        "pdf_links = get_daily_pdf_links(test_month_url, test_month_name, base_prefix)\n",
        "\n",
        "# Validar os resultados\n",
        "assert isinstance(pdf_links, list), \"A função não retornou uma lista.\"\n",
        "assert all(\"url\" in link and \"month\" in link for link in pdf_links), \"Estrutura dos links está incorreta.\"\n",
        "print(f\"Teste de extração de links de PDFs concluído! {len(pdf_links)} PDFs encontrados para {test_month_name}.\")\n"
      ],
      "metadata": {
        "colab": {
          "base_uri": "https://localhost:8080/"
        },
        "id": "fGEht1PYfXwS",
        "outputId": "07adb8ce-0efe-47d1-a08d-c06d3ec8d8d9"
      },
      "execution_count": 23,
      "outputs": [
        {
          "output_type": "stream",
          "name": "stdout",
          "text": [
            "HTML da página Outubro (primeiros 500 caracteres):\n",
            " <!DOCTYPE html>\n",
            "<html dir=\"ltr\" lang=\"pt-br\" prefix=\"content: http://purl.org/rss/1.0/modules/content/  dc: http://purl.org/dc/terms/  foaf: http://xmlns.com/foaf/0.1/  og: http://ogp.me/ns#  rdfs: http://www.w3.org/2000/01/rdf-schema#  schema: http://schema.org/  sioc: http://rdfs.org/sioc/ns#  sioct: http://rdfs.org/sioc/types#  skos: http://www.w3.org/2004/02/skos/core#  xsd: http://www.w3.org/2001/XMLSchema# \">\n",
            " <head>\n",
            "  <meta charset=\"utf-8\"/>\n",
            "  <meta content=\"Drupal 9 (https://www.drupal.o\n",
            "PDF links extraídos para Outubro: [{'url': 'https://www.rj.gov.br/ceasa/sites/default/files/arquivos_paginas/Boletim%20di%C3%A1rio%20de%20pre%C3%A7os%20%2031%2010%202024.pdf', 'month': 'Outubro'}, {'url': 'https://www.rj.gov.br/ceasa/sites/default/files/arquivos_paginas/Boletim%20di%C3%A1rio%20de%20pre%C3%A7os%20%2030%2010%202024.pdf', 'month': 'Outubro'}, {'url': 'https://www.rj.gov.br/ceasa/sites/default/files/arquivos_paginas/Boletim%20di%C3%A1rio%20de%20pre%C3%A7os%20%2029%2010%202024.pdf', 'month': 'Outubro'}, {'url': 'https://www.rj.gov.br/ceasa/sites/default/files/arquivos_paginas/Boletim%20di%C3%A1rio%20de%20pre%C3%A7os%20%2025%2010%202024.pdf', 'month': 'Outubro'}, {'url': 'https://www.rj.gov.br/ceasa/sites/default/files/arquivos_paginas/Boletim%20di%C3%A1rio%20de%20pre%C3%A7os%20%2024%2010%202024_0.pdf', 'month': 'Outubro'}, {'url': 'https://www.rj.gov.br/ceasa/sites/default/files/arquivos_paginas/Boletim%20di%C3%A1rio%20de%20pre%C3%A7os%20%2023%2010%202024.pdf', 'month': 'Outubro'}, {'url': 'https://www.rj.gov.br/ceasa/sites/default/files/arquivos_paginas/Boletim%20di%C3%A1rio%20de%20pre%C3%A7os%20%2022%2010%202024.pdf', 'month': 'Outubro'}, {'url': 'https://www.rj.gov.br/ceasa/sites/default/files/arquivos_paginas/Boletim%20di%C3%A1rio%20de%20pre%C3%A7os%20%2021%2010%202024.pdf', 'month': 'Outubro'}, {'url': 'https://www.rj.gov.br/ceasa/sites/default/files/arquivos_paginas/Boletim%20di%C3%A1rio%20de%20pre%C3%A7os%20%2018%2010%202024.pdf', 'month': 'Outubro'}, {'url': 'https://www.rj.gov.br/ceasa/sites/default/files/arquivos_paginas/Boletim%20di%C3%A1rio%20de%20pre%C3%A7os%20%2017%2010%202024_0.pdf', 'month': 'Outubro'}, {'url': 'https://www.rj.gov.br/ceasa/sites/default/files/arquivos_paginas/Boletim%20di%C3%A1rio%20de%20pre%C3%A7os%20%2016%2010%202024.pdf', 'month': 'Outubro'}, {'url': 'https://www.rj.gov.br/ceasa/sites/default/files/arquivos_paginas/Boletim%20di%C3%A1rio%20de%20pre%C3%A7os%20%2015%2010%202024.pdf', 'month': 'Outubro'}, {'url': 'https://www.rj.gov.br/ceasa/sites/default/files/arquivos_paginas/Boletim%20di%C3%A1rio%20de%20pre%C3%A7os%20%2014%2010%202024.pdf', 'month': 'Outubro'}, {'url': 'https://www.rj.gov.br/ceasa/sites/default/files/arquivos_paginas/Boletim%20di%C3%A1rio%20de%20pre%C3%A7os%20%2011%2010%202024.pdf', 'month': 'Outubro'}, {'url': 'https://www.rj.gov.br/ceasa/sites/default/files/arquivos_paginas/Boletim%20di%C3%A1rio%20de%20pre%C3%A7os%20%2010%2010%202024.pdf', 'month': 'Outubro'}, {'url': 'https://www.rj.gov.br/ceasa/sites/default/files/arquivos_paginas/Boletim%20di%C3%A1rio%20de%20pre%C3%A7os%20%2009%2010%202024.pdf', 'month': 'Outubro'}, {'url': 'https://www.rj.gov.br/ceasa/sites/default/files/arquivos_paginas/Boletim%20di%C3%A1rio%20de%20pre%C3%A7os%20%2008%2010%202024.pdf', 'month': 'Outubro'}, {'url': 'https://www.rj.gov.br/ceasa/sites/default/files/arquivos_paginas/Boletim%20di%C3%A1rio%20de%20pre%C3%A7os%20%2007%2010%202024.pdf', 'month': 'Outubro'}, {'url': 'https://www.rj.gov.br/ceasa/sites/default/files/arquivos_paginas/Boletim%20di%C3%A1rio%20de%20pre%C3%A7os%20%2004%2010%202024.pdf', 'month': 'Outubro'}, {'url': 'https://www.rj.gov.br/ceasa/sites/default/files/arquivos_paginas/Boletim%20di%C3%A1rio%20de%20pre%C3%A7os%20%2003%2010%202024.pdf', 'month': 'Outubro'}, {'url': 'https://www.rj.gov.br/ceasa/sites/default/files/arquivos_paginas/Boletim%20di%C3%A1rio%20de%20pre%C3%A7os%20%2002%2010%202024.pdf', 'month': 'Outubro'}, {'url': 'https://www.rj.gov.br/ceasa/sites/default/files/arquivos_paginas/Boletim%20di%C3%A1rio%20de%20pre%C3%A7os%20%2001%2010%202024.pdf', 'month': 'Outubro'}]\n",
            "Teste de extração de links de PDFs concluído! 22 PDFs encontrados para Outubro.\n"
          ]
        }
      ]
    },
    {
      "cell_type": "markdown",
      "source": [
        "# 5. Iterar pelos Links de Todos os Meses e Processar os PDFs"
      ],
      "metadata": {
        "id": "q1yd6my0JIde"
      }
    }
  ]
}