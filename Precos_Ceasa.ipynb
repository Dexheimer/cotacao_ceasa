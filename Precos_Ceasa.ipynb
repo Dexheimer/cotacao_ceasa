{
  "nbformat": 4,
  "nbformat_minor": 0,
  "metadata": {
    "colab": {
      "provenance": [],
      "authorship_tag": "ABX9TyO/6/+7KBIkHzWbLQ1ACvvn",
      "include_colab_link": true
    },
    "kernelspec": {
      "name": "python3",
      "display_name": "Python 3"
    },
    "language_info": {
      "name": "python"
    }
  },
  "cells": [
    {
      "cell_type": "markdown",
      "metadata": {
        "id": "view-in-github",
        "colab_type": "text"
      },
      "source": [
        "<a href=\"https://colab.research.google.com/github/Dexheimer/cotacao_ceasa/blob/main/Precos_Ceasa.ipynb\" target=\"_parent\"><img src=\"https://colab.research.google.com/assets/colab-badge.svg\" alt=\"Open In Colab\"/></a>"
      ]
    },
    {
      "cell_type": "markdown",
      "source": [
        "# 1. Configurações Iniciais\n",
        "Criar um arquivo ou célula para as bibliotecas, configurações e funções auxiliares."
      ],
      "metadata": {
        "id": "qanIwuepFm4V"
      }
    },
    {
      "cell_type": "code",
      "execution_count": 31,
      "metadata": {
        "colab": {
          "base_uri": "https://localhost:8080/"
        },
        "id": "j8cYEC-2Gpym",
        "outputId": "1b2d3cef-982c-40c4-b306-63fdbcf2e767"
      },
      "outputs": [
        {
          "output_type": "stream",
          "name": "stdout",
          "text": [
            "Requirement already satisfied: pdfplumber in /usr/local/lib/python3.10/dist-packages (0.11.4)\n",
            "Requirement already satisfied: requests in /usr/local/lib/python3.10/dist-packages (2.32.3)\n",
            "Requirement already satisfied: beautifulsoup4 in /usr/local/lib/python3.10/dist-packages (4.12.3)\n",
            "Requirement already satisfied: pandas in /usr/local/lib/python3.10/dist-packages (2.2.2)\n",
            "Requirement already satisfied: pdfminer.six==20231228 in /usr/local/lib/python3.10/dist-packages (from pdfplumber) (20231228)\n",
            "Requirement already satisfied: Pillow>=9.1 in /usr/local/lib/python3.10/dist-packages (from pdfplumber) (11.0.0)\n",
            "Requirement already satisfied: pypdfium2>=4.18.0 in /usr/local/lib/python3.10/dist-packages (from pdfplumber) (4.30.0)\n",
            "Requirement already satisfied: charset-normalizer>=2.0.0 in /usr/local/lib/python3.10/dist-packages (from pdfminer.six==20231228->pdfplumber) (3.4.0)\n",
            "Requirement already satisfied: cryptography>=36.0.0 in /usr/local/lib/python3.10/dist-packages (from pdfminer.six==20231228->pdfplumber) (43.0.3)\n",
            "Requirement already satisfied: idna<4,>=2.5 in /usr/local/lib/python3.10/dist-packages (from requests) (3.10)\n",
            "Requirement already satisfied: urllib3<3,>=1.21.1 in /usr/local/lib/python3.10/dist-packages (from requests) (2.2.3)\n",
            "Requirement already satisfied: certifi>=2017.4.17 in /usr/local/lib/python3.10/dist-packages (from requests) (2024.8.30)\n",
            "Requirement already satisfied: soupsieve>1.2 in /usr/local/lib/python3.10/dist-packages (from beautifulsoup4) (2.6)\n",
            "Requirement already satisfied: numpy>=1.22.4 in /usr/local/lib/python3.10/dist-packages (from pandas) (1.26.4)\n",
            "Requirement already satisfied: python-dateutil>=2.8.2 in /usr/local/lib/python3.10/dist-packages (from pandas) (2.8.2)\n",
            "Requirement already satisfied: pytz>=2020.1 in /usr/local/lib/python3.10/dist-packages (from pandas) (2024.2)\n",
            "Requirement already satisfied: tzdata>=2022.7 in /usr/local/lib/python3.10/dist-packages (from pandas) (2024.2)\n",
            "Requirement already satisfied: six>=1.5 in /usr/local/lib/python3.10/dist-packages (from python-dateutil>=2.8.2->pandas) (1.16.0)\n",
            "Requirement already satisfied: cffi>=1.12 in /usr/local/lib/python3.10/dist-packages (from cryptography>=36.0.0->pdfminer.six==20231228->pdfplumber) (1.17.1)\n",
            "Requirement already satisfied: pycparser in /usr/local/lib/python3.10/dist-packages (from cffi>=1.12->cryptography>=36.0.0->pdfminer.six==20231228->pdfplumber) (2.22)\n"
          ]
        }
      ],
      "source": [
        "# Instalar as bibliotecas necessárias\n",
        "!pip install pdfplumber requests beautifulsoup4 pandas\n",
        "\n",
        "# Importar as bibliotecas\n",
        "import requests\n",
        "import pandas as pd\n",
        "import pdfplumber\n",
        "import os\n",
        "from bs4 import BeautifulSoup\n",
        "from datetime import datetime\n",
        "\n",
        "# configurações iniciais\n",
        "\n",
        "base_url = \"https://www.rj.gov.br/ceasa/node/388\"\n",
        "base_prefix = \"https://www.rj.gov.br\"\n",
        "output_dir = \"ceasa_pdfs\"\n",
        "csv_output = \"cotacoes_ceasa.csv\"\n",
        "\n"
      ]
    },
    {
      "cell_type": "markdown",
      "source": [
        "# 1.1 Criar diretório"
      ],
      "metadata": {
        "id": "ln_o23Xu3lUH"
      }
    },
    {
      "cell_type": "code",
      "source": [
        "# Função para Criar Diretórios\n",
        "\n",
        "def create_directory(path):\n",
        "    \"\"\"Cria um diretório se ele não existir.\"\"\"\n",
        "    if not os.path.exists(path):\n",
        "        os.makedirs(path)\n",
        "        print(f\"Diretório criado: {path}\")\n",
        "    else:\n",
        "        print(f\"Diretório já existe: {path}\")"
      ],
      "metadata": {
        "id": "zCUEPd3K3opn"
      },
      "execution_count": 32,
      "outputs": []
    },
    {
      "cell_type": "code",
      "source": [
        "# Testar a criação de diretório\n",
        "\n",
        "test_dir = \"teste_diretorio\"\n",
        "create_directory(test_dir)\n",
        "assert os.path.exists(test_dir), \"O diretório não foi criado corretamente.\"\n",
        "print(\"Teste de criação de diretório concluído com sucesso!\")\n",
        "os.rmdir(test_dir)  # Limpar após o teste"
      ],
      "metadata": {
        "colab": {
          "base_uri": "https://localhost:8080/"
        },
        "id": "TLXiyfw75L0G",
        "outputId": "0e9d9073-d1c7-4e61-8358-5240d1f177d4"
      },
      "execution_count": 33,
      "outputs": [
        {
          "output_type": "stream",
          "name": "stdout",
          "text": [
            "Diretório criado: teste_diretorio\n",
            "Teste de criação de diretório concluído com sucesso!\n"
          ]
        }
      ]
    },
    {
      "cell_type": "markdown",
      "source": [
        "# 2. Coletar Links dos Meses\n",
        "E testar os links para os meses"
      ],
      "metadata": {
        "id": "dll1vDEAF0w7"
      }
    },
    {
      "cell_type": "code",
      "source": [
        "def get_month_links(base_url, base_prefix):\n",
        "    \"\"\"\n",
        "    Acessa a página principal e retorna uma lista de dicionários com links e textos dos meses.\n",
        "    URLs relativas são ajustadas para incluir o prefixo completo.\n",
        "    \"\"\"\n",
        "    response = requests.get(base_url)\n",
        "    response.raise_for_status()\n",
        "    soup = BeautifulSoup(response.content, 'html.parser')\n",
        "\n",
        "    # Focar na div específica onde os links estão localizados\n",
        "    section = soup.find(\"div\", {\"property\": \"schema:text\"})\n",
        "\n",
        "    # Verificar se a seção foi encontrada\n",
        "    if section:\n",
        "        links = section.find_all(\"a\", href=True)\n",
        "        month_links = []\n",
        "\n",
        "        for link in links:\n",
        "            url = link['href']\n",
        "            # Adicionar o prefixo base para URLs relativas\n",
        "            if not url.startswith(\"http\"):\n",
        "                url = f\"{base_prefix}{url}\"\n",
        "            month_links.append({\"url\": url, \"text\": link.text.strip()})\n",
        "\n",
        "        return month_links\n",
        "    else:\n",
        "        print(\"Seção com links não encontrada.\")\n",
        "        return []\n",
        "\n"
      ],
      "metadata": {
        "id": "keLXw32dMAgS"
      },
      "execution_count": 34,
      "outputs": []
    },
    {
      "cell_type": "code",
      "source": [
        "# Testar a coleta de links\n",
        "month_links = get_month_links(base_url, base_prefix)\n",
        "assert isinstance(month_links, list), \"Os links dos meses não foram coletados corretamente.\"\n",
        "assert all(\"url\" in link and \"text\" in link for link in month_links), \"Estrutura dos links está incorreta.\"\n",
        "assert all(link[\"url\"].startswith(\"http\") for link in month_links), \"Algumas URLs não foram corrigidas.\"\n",
        "print(f\"Teste de coleta de links dos meses concluído! {(month_links)} links encontrados.\")\n"
      ],
      "metadata": {
        "colab": {
          "base_uri": "https://localhost:8080/"
        },
        "id": "qaOF5WD25bBA",
        "outputId": "a9e7d78a-ba2d-4a49-a1a4-f539a4de7725"
      },
      "execution_count": 37,
      "outputs": [
        {
          "output_type": "stream",
          "name": "stdout",
          "text": [
            "Teste de coleta de links dos meses concluído! [{'url': 'https://www.rj.gov.br/ceasa/node/495', 'text': 'Dezembro'}, {'url': 'https://www.rj.gov.br/ceasa/node/491', 'text': 'Novembro'}, {'url': 'https://www.rj.gov.br/ceasa/node/452', 'text': 'Outubro'}, {'url': 'https://www.rj.gov.br/ceasa/node/446', 'text': 'Setembro'}, {'url': 'https://www.rj.gov.br/ceasa/node/436', 'text': 'Agosto'}, {'url': 'https://www.rj.gov.br/ceasa/node/425', 'text': 'Julho'}, {'url': 'https://www.rj.gov.br/ceasa/node/403', 'text': 'Junho'}, {'url': 'https://www.rj.gov.br/ceasa/node/396', 'text': 'Maio'}, {'url': 'https://www.rj.gov.br/ceasa/node/395', 'text': 'Abril'}, {'url': 'https://www.rj.gov.br/ceasa/node/392', 'text': 'Março'}, {'url': 'https://www.rj.gov.br/ceasa/node/391', 'text': 'Fevereiro'}, {'url': 'https://www.rj.gov.br/ceasa/node/387', 'text': 'Janeiro'}] links encontrados.\n"
          ]
        }
      ]
    },
    {
      "cell_type": "markdown",
      "source": [
        "# 4. Função para Extrair Links de PDFs"
      ],
      "metadata": {
        "id": "fiECP--395rz"
      }
    },
    {
      "cell_type": "code",
      "source": [
        "def get_daily_pdf_links(month_url, month_name):\n",
        "    \"\"\"\n",
        "    Acessa uma página do mês e retorna os links para os PDFs diários associados ao mês.\n",
        "    \"\"\"\n",
        "    response = requests.get(month_url)\n",
        "    response.raise_for_status()\n",
        "    soup = BeautifulSoup(response.content, 'html.parser')\n",
        "\n",
        "    # Encontrar todos os links para arquivos PDF\n",
        "    pdf_links = [\n",
        "        {\"url\": link['href'], \"month\": month_name}\n",
        "        for link in soup.find_all(\"a\", href=True)\n",
        "        if link['href'].endswith(\".pdf\")\n",
        "    ]\n",
        "    return pdf_links\n",
        "\n"
      ],
      "metadata": {
        "id": "ZtnEsHqa94Yz"
      },
      "execution_count": 43,
      "outputs": []
    },
    {
      "cell_type": "code",
      "source": [
        "# Testar a função de extração de links de PDFs\n",
        "test_month_url = \"https://www.rj.gov.br/ceasa/node/491\"  # Exemplo para Novembro\n",
        "test_month_name = \"Novembro\"\n",
        "\n",
        "pdf_links = get_daily_pdf_links(test_month_url, test_month_name)\n",
        "\n",
        "# Validar os resultados\n",
        "assert isinstance(pdf_links, list), \"A função não retornou uma lista.\"\n",
        "assert all(\"url\" in link and \"month\" in link for link in pdf_links), \"Estrutura dos links está incorreta.\"\n",
        "print(f\"Teste de extração de links de PDFs concluído! {len(pdf_links)} PDFs encontrados para {test_month_name}.\")\n"
      ],
      "metadata": {
        "colab": {
          "base_uri": "https://localhost:8080/"
        },
        "id": "li7PdXR1-EtJ",
        "outputId": "07445b9a-198e-4cf9-c342-cf207c002568"
      },
      "execution_count": 44,
      "outputs": [
        {
          "output_type": "stream",
          "name": "stdout",
          "text": [
            "Teste de extração de links de PDFs concluído! 17 PDFs encontrados para Novembro.\n"
          ]
        }
      ]
    }
  ]
}