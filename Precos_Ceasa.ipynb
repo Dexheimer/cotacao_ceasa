{
  "nbformat": 4,
  "nbformat_minor": 0,
  "metadata": {
    "colab": {
      "provenance": [],
      "authorship_tag": "ABX9TyPhe60iVnwfHGPNgwXFVKsn",
      "include_colab_link": true
    },
    "kernelspec": {
      "name": "python3",
      "display_name": "Python 3"
    },
    "language_info": {
      "name": "python"
    }
  },
  "cells": [
    {
      "cell_type": "markdown",
      "metadata": {
        "id": "view-in-github",
        "colab_type": "text"
      },
      "source": [
        "<a href=\"https://colab.research.google.com/github/Dexheimer/cotacao_ceasa/blob/main/Precos_Ceasa.ipynb\" target=\"_parent\"><img src=\"https://colab.research.google.com/assets/colab-badge.svg\" alt=\"Open In Colab\"/></a>"
      ]
    },
    {
      "cell_type": "code",
      "execution_count": 3,
      "metadata": {
        "colab": {
          "base_uri": "https://localhost:8080/"
        },
        "id": "j8cYEC-2Gpym",
        "outputId": "3ba5bbe8-7d30-4f26-b396-b8a266fb8104"
      },
      "outputs": [
        {
          "output_type": "stream",
          "name": "stdout",
          "text": [
            "Collecting pdfplumber\n",
            "  Downloading pdfplumber-0.11.4-py3-none-any.whl.metadata (41 kB)\n",
            "\u001b[?25l     \u001b[90m━━━━━━━━━━━━━━━━━━━━━━━━━━━━━━━━━━━━━━━━\u001b[0m \u001b[32m0.0/42.0 kB\u001b[0m \u001b[31m?\u001b[0m eta \u001b[36m-:--:--\u001b[0m\r\u001b[2K     \u001b[90m━━━━━━━━━━━━━━━━━━━━━━━━━━━━━━━━━━━━━━━━\u001b[0m \u001b[32m42.0/42.0 kB\u001b[0m \u001b[31m3.1 MB/s\u001b[0m eta \u001b[36m0:00:00\u001b[0m\n",
            "\u001b[?25hCollecting pdfminer.six==20231228 (from pdfplumber)\n",
            "  Downloading pdfminer.six-20231228-py3-none-any.whl.metadata (4.2 kB)\n",
            "Requirement already satisfied: Pillow>=9.1 in /usr/local/lib/python3.10/dist-packages (from pdfplumber) (11.0.0)\n",
            "Collecting pypdfium2>=4.18.0 (from pdfplumber)\n",
            "  Downloading pypdfium2-4.30.0-py3-none-manylinux_2_17_x86_64.manylinux2014_x86_64.whl.metadata (48 kB)\n",
            "\u001b[2K     \u001b[90m━━━━━━━━━━━━━━━━━━━━━━━━━━━━━━━━━━━━━━━━\u001b[0m \u001b[32m48.5/48.5 kB\u001b[0m \u001b[31m3.5 MB/s\u001b[0m eta \u001b[36m0:00:00\u001b[0m\n",
            "\u001b[?25hRequirement already satisfied: charset-normalizer>=2.0.0 in /usr/local/lib/python3.10/dist-packages (from pdfminer.six==20231228->pdfplumber) (3.4.0)\n",
            "Requirement already satisfied: cryptography>=36.0.0 in /usr/local/lib/python3.10/dist-packages (from pdfminer.six==20231228->pdfplumber) (43.0.3)\n",
            "Requirement already satisfied: cffi>=1.12 in /usr/local/lib/python3.10/dist-packages (from cryptography>=36.0.0->pdfminer.six==20231228->pdfplumber) (1.17.1)\n",
            "Requirement already satisfied: pycparser in /usr/local/lib/python3.10/dist-packages (from cffi>=1.12->cryptography>=36.0.0->pdfminer.six==20231228->pdfplumber) (2.22)\n",
            "Downloading pdfplumber-0.11.4-py3-none-any.whl (59 kB)\n",
            "\u001b[2K   \u001b[90m━━━━━━━━━━━━━━━━━━━━━━━━━━━━━━━━━━━━━━━━\u001b[0m \u001b[32m59.2/59.2 kB\u001b[0m \u001b[31m4.3 MB/s\u001b[0m eta \u001b[36m0:00:00\u001b[0m\n",
            "\u001b[?25hDownloading pdfminer.six-20231228-py3-none-any.whl (5.6 MB)\n",
            "\u001b[2K   \u001b[90m━━━━━━━━━━━━━━━━━━━━━━━━━━━━━━━━━━━━━━━━\u001b[0m \u001b[32m5.6/5.6 MB\u001b[0m \u001b[31m84.7 MB/s\u001b[0m eta \u001b[36m0:00:00\u001b[0m\n",
            "\u001b[?25hDownloading pypdfium2-4.30.0-py3-none-manylinux_2_17_x86_64.manylinux2014_x86_64.whl (2.8 MB)\n",
            "\u001b[2K   \u001b[90m━━━━━━━━━━━━━━━━━━━━━━━━━━━━━━━━━━━━━━━━\u001b[0m \u001b[32m2.8/2.8 MB\u001b[0m \u001b[31m74.3 MB/s\u001b[0m eta \u001b[36m0:00:00\u001b[0m\n",
            "\u001b[?25hInstalling collected packages: pypdfium2, pdfminer.six, pdfplumber\n",
            "Successfully installed pdfminer.six-20231228 pdfplumber-0.11.4 pypdfium2-4.30.0\n"
          ]
        }
      ],
      "source": [
        "!pip install pdfplumber # Install the pdfplumber library using pip\n",
        "import os\n",
        "import requests\n",
        "import pandas as pd\n",
        "from PyPDF2 import PdfReader\n",
        "import pdfplumber # Now you should be able to import pdfplumber without any issues"
      ]
    },
    {
      "cell_type": "code",
      "source": [
        "!pip install requests beautifulsoup4 pandas pdfplumber"
      ],
      "metadata": {
        "colab": {
          "base_uri": "https://localhost:8080/"
        },
        "id": "Ryjulo1vI1Qf",
        "outputId": "20ded5b0-054a-4d7d-f403-4991497ef3a2"
      },
      "execution_count": 5,
      "outputs": [
        {
          "output_type": "stream",
          "name": "stdout",
          "text": [
            "Requirement already satisfied: requests in /usr/local/lib/python3.10/dist-packages (2.32.3)\n",
            "Requirement already satisfied: beautifulsoup4 in /usr/local/lib/python3.10/dist-packages (4.12.3)\n",
            "Requirement already satisfied: pandas in /usr/local/lib/python3.10/dist-packages (2.2.2)\n",
            "Requirement already satisfied: pdfplumber in /usr/local/lib/python3.10/dist-packages (0.11.4)\n",
            "Requirement already satisfied: charset-normalizer<4,>=2 in /usr/local/lib/python3.10/dist-packages (from requests) (3.4.0)\n",
            "Requirement already satisfied: idna<4,>=2.5 in /usr/local/lib/python3.10/dist-packages (from requests) (3.10)\n",
            "Requirement already satisfied: urllib3<3,>=1.21.1 in /usr/local/lib/python3.10/dist-packages (from requests) (2.2.3)\n",
            "Requirement already satisfied: certifi>=2017.4.17 in /usr/local/lib/python3.10/dist-packages (from requests) (2024.8.30)\n",
            "Requirement already satisfied: soupsieve>1.2 in /usr/local/lib/python3.10/dist-packages (from beautifulsoup4) (2.6)\n",
            "Requirement already satisfied: numpy>=1.22.4 in /usr/local/lib/python3.10/dist-packages (from pandas) (1.26.4)\n",
            "Requirement already satisfied: python-dateutil>=2.8.2 in /usr/local/lib/python3.10/dist-packages (from pandas) (2.8.2)\n",
            "Requirement already satisfied: pytz>=2020.1 in /usr/local/lib/python3.10/dist-packages (from pandas) (2024.2)\n",
            "Requirement already satisfied: tzdata>=2022.7 in /usr/local/lib/python3.10/dist-packages (from pandas) (2024.2)\n",
            "Requirement already satisfied: pdfminer.six==20231228 in /usr/local/lib/python3.10/dist-packages (from pdfplumber) (20231228)\n",
            "Requirement already satisfied: Pillow>=9.1 in /usr/local/lib/python3.10/dist-packages (from pdfplumber) (11.0.0)\n",
            "Requirement already satisfied: pypdfium2>=4.18.0 in /usr/local/lib/python3.10/dist-packages (from pdfplumber) (4.30.0)\n",
            "Requirement already satisfied: cryptography>=36.0.0 in /usr/local/lib/python3.10/dist-packages (from pdfminer.six==20231228->pdfplumber) (43.0.3)\n",
            "Requirement already satisfied: six>=1.5 in /usr/local/lib/python3.10/dist-packages (from python-dateutil>=2.8.2->pandas) (1.16.0)\n",
            "Requirement already satisfied: cffi>=1.12 in /usr/local/lib/python3.10/dist-packages (from cryptography>=36.0.0->pdfminer.six==20231228->pdfplumber) (1.17.1)\n",
            "Requirement already satisfied: pycparser in /usr/local/lib/python3.10/dist-packages (from cffi>=1.12->cryptography>=36.0.0->pdfminer.six==20231228->pdfplumber) (2.22)\n"
          ]
        }
      ]
    },
    {
      "cell_type": "code",
      "source": [
        "import requests\n",
        "from bs4 import BeautifulSoup\n",
        "import os\n",
        "\n",
        "# URL da página que lista os PDFs\n",
        "url_base = \"https://www.rj.gov.br/ceasa/node/387\"\n",
        "\n",
        "# Diretório para salvar os PDFs\n",
        "output_dir = \"ceasa_pdfs\"\n",
        "os.makedirs(output_dir, exist_ok=True)\n",
        "\n",
        "# Requisição para obter o HTML da página\n",
        "response = requests.get(url_base)\n",
        "if response.status_code == 200:\n",
        "    soup = BeautifulSoup(response.content, 'html.parser')\n",
        "\n",
        "    # Busca todas as tags de link para PDFs\n",
        "    links = soup.find_all('a', href=True)\n",
        "    pdf_links = [link['href'] for link in links if link['href'].endswith('.pdf')]\n",
        "\n",
        "    print(f\"Encontrados {len(pdf_links)} PDFs. Iniciando o download...\")\n",
        "\n",
        "    # Download dos PDFs\n",
        "    for pdf_link in pdf_links:\n",
        "        pdf_url = pdf_link if pdf_link.startswith('http') else f\"https://www.rj.gov.br{pdf_link}\"\n",
        "        file_name = os.path.basename(pdf_url)\n",
        "        file_path = os.path.join(output_dir, file_name)\n",
        "\n",
        "        # Faz o download\n",
        "        pdf_response = requests.get(pdf_url)\n",
        "        if pdf_response.status_code == 200:\n",
        "            with open(file_path, \"wb\") as file:\n",
        "                file.write(pdf_response.content)\n",
        "            print(f\"Baixado: {file_name}\")\n",
        "        else:\n",
        "            print(f\"Falha no download: {pdf_url}\")\n",
        "else:\n",
        "    print(\"Erro ao acessar a página principal.\")"
      ],
      "metadata": {
        "colab": {
          "base_uri": "https://localhost:8080/"
        },
        "id": "WKlqMYeCKnXQ",
        "outputId": "0f271866-8360-489e-dbae-c44fc89eeb26"
      },
      "execution_count": 6,
      "outputs": [
        {
          "output_type": "stream",
          "name": "stdout",
          "text": [
            "Encontrados 22 PDFs. Iniciando o download...\n",
            "Baixado: Boletim%20de%20pre%C3%A7os%20%2031%2001%202024_0.pdf\n",
            "Baixado: Boletim%20de%20pre%C3%A7os%20%2030%2001%202024_0.pdf\n",
            "Baixado: Boletim%20de%20pre%C3%A7os%20%2029%2001%202024_0.pdf\n",
            "Baixado: Boletim%20de%20pre%C3%A7os%20%2026%2001%202024_0.pdf\n",
            "Baixado: Boletim%20de%20pre%C3%A7os%20%2025%2001%202024_0.pdf\n",
            "Baixado: Boletim%20de%20pre%C3%A7os%20%2024%2001%202024_0.pdf\n",
            "Baixado: Boletim%20de%20pre%C3%A7os%20%2023%2001%202024_0.pdf\n",
            "Baixado: Boletim%20de%20pre%C3%A7os%20%2022%2001%202024.pdf\n",
            "Baixado: Boletim%20de%20pre%C3%A7os%20%2019%2001%202024.pdf\n",
            "Baixado: Boletim%20de%20pre%C3%A7os%20%2018%2001%202024.pdf\n",
            "Baixado: Boletim%20de%20pre%C3%A7os%20%2017%2001%202024.pdf\n",
            "Baixado: Boletim%20de%20pre%C3%A7os%20%2016%2001%202024.pdf\n",
            "Baixado: Boletim%20de%20pre%C3%A7os%20%2015%2001%202024.pdf\n",
            "Baixado: Boletim%20de%20pre%C3%A7os%20%2012%2001%202024.pdf\n",
            "Baixado: Boletim%20de%20pre%C3%A7os%20%2011%2001%202024.pdf\n",
            "Baixado: Boletim%20de%20pre%C3%A7os%20%2010%2001%202024.pdf\n",
            "Baixado: Boletim%20de%20pre%C3%A7os%20%2009%2001%202024.pdf\n",
            "Baixado: Boletim%20de%20pre%C3%A7os%20%2008%2001%202024.pdf\n",
            "Baixado: Boletim%20de%20pre%C3%A7os%20%2005%2001%202024.pdf\n",
            "Baixado: Boletim%20de%20pre%C3%A7os%20%2004%2001%202024_0.pdf\n",
            "Baixado: Boletim%20de%20pre%C3%A7os%20%2003%2001%202024_0.pdf\n",
            "Baixado: Boletim%20de%20pre%C3%A7os%20%2002%2001%202024.pdf\n"
          ]
        }
      ]
    },
    {
      "cell_type": "code",
      "source": [
        "import pdfplumber\n",
        "import pandas as pd\n",
        "\n",
        "# Lista para armazenar os dados\n",
        "data = []\n",
        "\n",
        "# Processar os PDFs\n",
        "for pdf_file in os.listdir(output_dir):\n",
        "    if pdf_file.endswith(\".pdf\"):\n",
        "        with pdfplumber.open(os.path.join(output_dir, pdf_file)) as pdf:\n",
        "            for page in pdf.pages:\n",
        "                table = page.extract_table()\n",
        "                if table:\n",
        "                    # Adiciona cada linha da tabela ao conjunto de dados\n",
        "                    for row in table:\n",
        "                        data.append(row)\n",
        "\n",
        "# Criação do DataFrame\n",
        "df = pd.DataFrame(data)\n",
        "\n",
        "# Visualizar primeiros registros\n",
        "print(df.head())\n",
        "\n",
        "# Salvando como CSV\n",
        "df.to_csv(\"ceasa_prices.csv\", index=False, encoding=\"utf-8-sig\")\n",
        "print(\"Dados salvos no arquivo ceasa_prices.csv\")\n",
        "\n"
      ],
      "metadata": {
        "colab": {
          "base_uri": "https://localhost:8080/"
        },
        "id": "keLXw32dMAgS",
        "outputId": "8a630d11-131d-4378-c004-2dc97f285a78"
      },
      "execution_count": 7,
      "outputs": [
        {
          "output_type": "stream",
          "name": "stdout",
          "text": [
            "                     0            1                  2  \\\n",
            "0                 None  Dia Semana:      segunda-feira   \n",
            "1             PRODUTOS         TIPO  UNIDADE EMBALAGEM   \n",
            "2  1. FRUTAS NACIONAIS                                   \n",
            "3              ABACATE                        Cx 15 kg   \n",
            "4       ABACAXI ANANÁS       Grande        Unid 2,5 kg   \n",
            "\n",
            "                             3      4      5           6  \n",
            "0                         None   None         15/01/2024  \n",
            "1  VARIAÇÃO\\nULTIMOS\\n12 MESES    MIN  MODAL         MAX  \n",
            "2                                                         \n",
            "3                      -17,65%  60,00  70,00       80,00  \n",
            "4                          S/C                            \n",
            "Dados salvos no arquivo ceasa_prices.csv\n"
          ]
        }
      ]
    },
    {
      "cell_type": "code",
      "source": [
        "print(df.head())"
      ],
      "metadata": {
        "colab": {
          "base_uri": "https://localhost:8080/"
        },
        "id": "6jDNCJrSPLgZ",
        "outputId": "1edc71d8-6029-4cde-ef4a-8d4365957f64"
      },
      "execution_count": 14,
      "outputs": [
        {
          "output_type": "stream",
          "name": "stdout",
          "text": [
            "                     0            1                  2  \\\n",
            "0                 None  Dia Semana:      segunda-feira   \n",
            "1             PRODUTOS         TIPO  UNIDADE EMBALAGEM   \n",
            "2  1. FRUTAS NACIONAIS                                   \n",
            "3              ABACATE                        Cx 15 kg   \n",
            "4       ABACAXI ANANÁS       Grande        Unid 2,5 kg   \n",
            "\n",
            "                             3      4      5           6  \n",
            "0                         None   None         15/01/2024  \n",
            "1  VARIAÇÃO\\nULTIMOS\\n12 MESES    MIN  MODAL         MAX  \n",
            "2                                                         \n",
            "3                      -17,65%  60,00  70,00       80,00  \n",
            "4                          S/C                            \n"
          ]
        }
      ]
    },
    {
      "cell_type": "code",
      "source": [
        "# Listar os nomes das colunas\n",
        "print(\"Nomes das colunas no DataFrame:\")\n",
        "print(df.columns)\n"
      ],
      "metadata": {
        "colab": {
          "base_uri": "https://localhost:8080/"
        },
        "id": "FCV2iowmQeOb",
        "outputId": "bdaf4220-ead2-433b-c3fa-f41d3e5be168"
      },
      "execution_count": 15,
      "outputs": [
        {
          "output_type": "stream",
          "name": "stdout",
          "text": [
            "Nomes das colunas no DataFrame:\n",
            "RangeIndex(start=0, stop=7, step=1)\n"
          ]
        }
      ]
    },
    {
      "cell_type": "code",
      "source": [
        "# Lista com os nomes das colunas (substitua pelos nomes reais)\n",
        "novos_nomes = [\"Produto\", \"Obs\", \"Unidade Embalagem\", \"Variação últimos 12 meses\", \"Preço_Mínimo\", \"Preço_Médio\", \"Preço_Máximo\"]\n",
        "\n",
        "# Substituir os nomes das colunas no DataFrame\n",
        "df.columns = novos_nomes\n",
        "\n",
        "# Verificar os novos nomes\n",
        "print(\"Novos nomes das colunas:\")\n",
        "print(df.columns)\n"
      ],
      "metadata": {
        "colab": {
          "base_uri": "https://localhost:8080/"
        },
        "id": "G1P5UbriQ4qv",
        "outputId": "941c7e30-6ed2-4ab0-c8ef-eda37a1ef129"
      },
      "execution_count": 17,
      "outputs": [
        {
          "output_type": "stream",
          "name": "stdout",
          "text": [
            "Novos nomes das colunas:\n",
            "Index(['Produto', 'Obs', 'Unidade Embalagem', 'Variação últimos 12 meses',\n",
            "       'Preço_Mínimo', 'Preço_Médio', 'Preço_Máximo'],\n",
            "      dtype='object')\n"
          ]
        }
      ]
    },
    {
      "cell_type": "code",
      "source": [
        "# Listar os nomes das colunas\n",
        "print(\"Nomes das colunas no DataFrame:\")\n",
        "print(df.columns)"
      ],
      "metadata": {
        "colab": {
          "base_uri": "https://localhost:8080/"
        },
        "id": "C5jrOdZvRim0",
        "outputId": "045dd426-627e-43ec-8d10-a420c7f74dad"
      },
      "execution_count": 18,
      "outputs": [
        {
          "output_type": "stream",
          "name": "stdout",
          "text": [
            "Nomes das colunas no DataFrame:\n",
            "Index(['Produto', 'Obs', 'Unidade Embalagem', 'Variação últimos 12 meses',\n",
            "       'Preço_Mínimo', 'Preço_Médio', 'Preço_Máximo'],\n",
            "      dtype='object')\n"
          ]
        }
      ]
    },
    {
      "cell_type": "code",
      "source": [
        "# Salvar o DataFrame atualizado em um novo arquivo CSV\n",
        "df.to_csv(\"ceasa_prices_renomeado.csv\", index=False, encoding=\"utf-8-sig\")\n",
        "\n",
        "print(\"Novo arquivo CSV criado: ceasa_prices_renomeado.csv\")"
      ],
      "metadata": {
        "colab": {
          "base_uri": "https://localhost:8080/"
        },
        "id": "EdLcF7p-R0JC",
        "outputId": "cd5fdbce-2468-45b3-b3b4-9641bd813adc"
      },
      "execution_count": 19,
      "outputs": [
        {
          "output_type": "stream",
          "name": "stdout",
          "text": [
            "Novo arquivo CSV criado: ceasa_prices_renomeado.csv\n"
          ]
        }
      ]
    },
    {
      "cell_type": "code",
      "source": [
        "# Lista com os termos a serem excluídos\n",
        "\n",
        "termos_excluir = [\"PRODUTOS\", \"TIPO\", \"UNIDADE\", \"EMBALAGEM\",\n",
        "    \"VARIAÇÃO ULTIMOS 12 MESES\", \"MIN\", \"MODAL\", \"MAX\"]"
      ],
      "metadata": {
        "id": "xKP5nMMpSn_c"
      },
      "execution_count": 20,
      "outputs": []
    },
    {
      "cell_type": "code",
      "source": [
        "# Filtrar as linhas que contenham qualquer um dos termos da lista\n",
        "\n",
        "mascara = df.apply(lambda row: row.astype(str).str.contains('I'.join(termos_excluir), case=False).any(), axis=1)"
      ],
      "metadata": {
        "id": "9icsWrELSwkY"
      },
      "execution_count": 21,
      "outputs": []
    },
    {
      "cell_type": "code",
      "source": [
        "# Salvar o DataFrame sem as linhas indesejadas\n",
        "df.to_csv(\"ceasa_prices_filtrado.csv\", index=False, encoding=\"utf-8-sig\")\n",
        "\n",
        "print(\"Novo arquivo CSV criado: ceasa_prices_filtrado.csv\")\n"
      ],
      "metadata": {
        "colab": {
          "base_uri": "https://localhost:8080/"
        },
        "id": "WuarMimVT1cU",
        "outputId": "2d988a07-07d9-4608-84c5-92ca11c1bcf6"
      },
      "execution_count": 23,
      "outputs": [
        {
          "output_type": "stream",
          "name": "stdout",
          "text": [
            "Novo arquivo CSV criado: ceasa_prices_filtrado.csv\n"
          ]
        }
      ]
    },
    {
      "cell_type": "code",
      "source": [
        "\n",
        "# Lista com os termos a serem excluídos\n",
        "termos_excluir = [\n",
        "    \"PRODUTOS\", \"TIPO\", \"UNIDADE\", \"EMBALAGEM\",\n",
        "    \"VARIAÇÃO ULTIMOS 12 MESES\", \"MIN\", \"MODAL\", \"MAX\"\n",
        "]\n",
        "\n",
        "# Aplicar o filtro para todas as células do DataFrame\n",
        "mascara = df.apply(lambda row: row.astype(str).str.contains('|'.join(termos_excluir), case=False).any(), axis=1)\n",
        "\n",
        "# Excluir as linhas que contêm qualquer um dos termos da lista\n",
        "df_filtrado = df[~mascara]\n",
        "\n",
        "# Verificar o DataFrame resultante\n",
        "print(df_filtrado.head())\n",
        "\n",
        "# Salvar o DataFrame filtrado em um novo arquivo CSV (opcional)\n",
        "df_filtrado.to_csv(\"ceasa_prices_filtrado.csv\", index=False, encoding=\"utf-8-sig\")\n",
        "print(\"Novo arquivo CSV criado: ceasa_prices_filtrado.csv\")"
      ],
      "metadata": {
        "colab": {
          "base_uri": "https://localhost:8080/"
        },
        "id": "_2BGDRGVUvMj",
        "outputId": "31b8dfe9-7df4-46eb-96ea-519030ecbb36"
      },
      "execution_count": 24,
      "outputs": [
        {
          "output_type": "stream",
          "name": "stdout",
          "text": [
            "               Produto          Obs Unidade Embalagem  \\\n",
            "0                 None  Dia Semana:     segunda-feira   \n",
            "2  1. FRUTAS NACIONAIS                                  \n",
            "3              ABACATE                       Cx 15 kg   \n",
            "4       ABACAXI ANANÁS       Grande       Unid 2,5 kg   \n",
            "5       ABACAXI PÉROLA        Médio       Unid 2,0 kg   \n",
            "\n",
            "  Variação últimos 12 meses Preço_Mínimo Preço_Médio Preço_Máximo  \n",
            "0                      None         None               15/01/2024  \n",
            "2                                                                  \n",
            "3                   -17,65%        60,00       70,00        80,00  \n",
            "4                       S/C                                        \n",
            "5                    24,82%         7,00        8,00         8,50  \n",
            "Novo arquivo CSV criado: ceasa_prices_filtrado.csv\n"
          ]
        }
      ]
    },
    {
      "cell_type": "code",
      "source": [
        "# Criar uma nova coluna 'Data' copiando os valores de 'Preço_Máximo'\n",
        "df['Data'] = df['Preço_Máximo']"
      ],
      "metadata": {
        "id": "gC2KlVDMWXhq"
      },
      "execution_count": 25,
      "outputs": []
    },
    {
      "cell_type": "code",
      "source": [
        "import re\n",
        "\n",
        "# Função para verificar se uma string é uma data no formato DD MM AAAA\n",
        "def is_date(value):\n",
        "    return bool(re.match(r\"\\d{2} \\d{2} \\d{4}\", str(value)))\n",
        "\n",
        "# Filtrar a coluna 'Data' e manter apenas as células que são datas\n",
        "df['Data'] = df['Data'].apply(lambda x: x if is_date(x) else None)\n",
        "\n",
        "# Verificar as primeiras linhas para ver como ficou\n",
        "print(df.head())"
      ],
      "metadata": {
        "colab": {
          "base_uri": "https://localhost:8080/"
        },
        "id": "bjGUb9vSWcgE",
        "outputId": "41553cfe-eb1a-4660-d04c-404a82a0884f"
      },
      "execution_count": 26,
      "outputs": [
        {
          "output_type": "stream",
          "name": "stdout",
          "text": [
            "               Produto          Obs  Unidade Embalagem  \\\n",
            "0                 None  Dia Semana:      segunda-feira   \n",
            "1             PRODUTOS         TIPO  UNIDADE EMBALAGEM   \n",
            "2  1. FRUTAS NACIONAIS                                   \n",
            "3              ABACATE                        Cx 15 kg   \n",
            "4       ABACAXI ANANÁS       Grande        Unid 2,5 kg   \n",
            "\n",
            "     Variação últimos 12 meses Preço_Mínimo Preço_Médio Preço_Máximo  Data  \n",
            "0                         None         None               15/01/2024  None  \n",
            "1  VARIAÇÃO\\nULTIMOS\\n12 MESES          MIN       MODAL          MAX  None  \n",
            "2                                                                     None  \n",
            "3                      -17,65%        60,00       70,00        80,00  None  \n",
            "4                          S/C                                        None  \n"
          ]
        }
      ]
    },
    {
      "cell_type": "code",
      "source": [
        "# Preencher as células vazias na coluna 'Data' com a data anterior\n",
        "df['Data'] = df['Data'].fillna(method='ffill')\n",
        "\n",
        "# Verificar as primeiras linhas para garantir que as datas foram preenchidas\n",
        "print(df.head())\n"
      ],
      "metadata": {
        "colab": {
          "base_uri": "https://localhost:8080/"
        },
        "id": "G8IT1LBLWyKJ",
        "outputId": "10edeed8-b7ce-45fa-b417-97da7e94b385"
      },
      "execution_count": 27,
      "outputs": [
        {
          "output_type": "stream",
          "name": "stdout",
          "text": [
            "               Produto          Obs  Unidade Embalagem  \\\n",
            "0                 None  Dia Semana:      segunda-feira   \n",
            "1             PRODUTOS         TIPO  UNIDADE EMBALAGEM   \n",
            "2  1. FRUTAS NACIONAIS                                   \n",
            "3              ABACATE                        Cx 15 kg   \n",
            "4       ABACAXI ANANÁS       Grande        Unid 2,5 kg   \n",
            "\n",
            "     Variação últimos 12 meses Preço_Mínimo Preço_Médio Preço_Máximo  Data  \n",
            "0                         None         None               15/01/2024  None  \n",
            "1  VARIAÇÃO\\nULTIMOS\\n12 MESES          MIN       MODAL          MAX  None  \n",
            "2                                                                     None  \n",
            "3                      -17,65%        60,00       70,00        80,00  None  \n",
            "4                          S/C                                        None  \n"
          ]
        },
        {
          "output_type": "stream",
          "name": "stderr",
          "text": [
            "<ipython-input-27-c46e2a13ca87>:2: FutureWarning: Series.fillna with 'method' is deprecated and will raise in a future version. Use obj.ffill() or obj.bfill() instead.\n",
            "  df['Data'] = df['Data'].fillna(method='ffill')\n"
          ]
        }
      ]
    },
    {
      "cell_type": "code",
      "source": [
        "# Salvar o DataFrame atualizado em um novo arquivo CSV\n",
        "df.to_csv(\"ceasa_prices_com_data.csv\", index=False, encoding=\"utf-8-sig\")\n",
        "\n",
        "print(\"Novo arquivo CSV criado: ceasa_prices_com_data.csv\")"
      ],
      "metadata": {
        "colab": {
          "base_uri": "https://localhost:8080/"
        },
        "id": "BBsm9st4W3NY",
        "outputId": "a8ec6739-765d-408d-bd55-8cab721aa202"
      },
      "execution_count": 28,
      "outputs": [
        {
          "output_type": "stream",
          "name": "stdout",
          "text": [
            "Novo arquivo CSV criado: ceasa_prices_com_data.csv\n"
          ]
        }
      ]
    },
    {
      "cell_type": "code",
      "source": [
        "!git init\n",
        "!git config --global user.email \"andre.dexheimer@gmail.com\"\n",
        "!git config --global user.name \"Dex\"\n",
        "!git add .\n",
        "!git commit -m \"First commit\"\n",
        "!git remote add origin <https://github.com/Dexheimer/cotacao_ceasa.git>\n",
        "!git push -u origin master"
      ],
      "metadata": {
        "colab": {
          "base_uri": "https://localhost:8080/"
        },
        "id": "SvvaXoPIYpuO",
        "outputId": "089c5b8b-478c-4925-dbf3-8dbad600b541"
      },
      "execution_count": 29,
      "outputs": [
        {
          "output_type": "stream",
          "name": "stdout",
          "text": [
            "\u001b[33mhint: Using 'master' as the name for the initial branch. This default branch name\u001b[m\n",
            "\u001b[33mhint: is subject to change. To configure the initial branch name to use in all\u001b[m\n",
            "\u001b[33mhint: of your new repositories, which will suppress this warning, call:\u001b[m\n",
            "\u001b[33mhint: \u001b[m\n",
            "\u001b[33mhint: \tgit config --global init.defaultBranch <name>\u001b[m\n",
            "\u001b[33mhint: \u001b[m\n",
            "\u001b[33mhint: Names commonly chosen instead of 'master' are 'main', 'trunk' and\u001b[m\n",
            "\u001b[33mhint: 'development'. The just-created branch can be renamed via this command:\u001b[m\n",
            "\u001b[33mhint: \u001b[m\n",
            "\u001b[33mhint: \tgit branch -m <name>\u001b[m\n",
            "Initialized empty Git repository in /content/.git/\n",
            "[master (root-commit) de48dd6] First commit\n",
            " 47 files changed, 74655 insertions(+)\n",
            " create mode 100644 .config/.last_opt_in_prompt.yaml\n",
            " create mode 100644 .config/.last_survey_prompt.yaml\n",
            " create mode 100644 .config/.last_update_check.json\n",
            " create mode 100644 .config/active_config\n",
            " create mode 100644 .config/config_sentinel\n",
            " create mode 100644 .config/configurations/config_default\n",
            " create mode 100644 .config/default_configs.db\n",
            " create mode 100644 .config/gce\n",
            " create mode 100644 .config/hidden_gcloud_config_universe_descriptor_data_cache_configs.db\n",
            " create mode 100644 .config/logs/2024.11.25/19.12.20.690274.log\n",
            " create mode 100644 .config/logs/2024.11.25/19.12.42.183555.log\n",
            " create mode 100644 .config/logs/2024.11.25/19.12.55.136430.log\n",
            " create mode 100644 .config/logs/2024.11.25/19.12.56.407212.log\n",
            " create mode 100644 .config/logs/2024.11.25/19.13.09.316504.log\n",
            " create mode 100644 .config/logs/2024.11.25/19.13.10.119162.log\n",
            " create mode 100644 ceasa_pdfs/Boletim%20de%20pre%C3%A7os%20%2002%2001%202024.pdf\n",
            " create mode 100644 ceasa_pdfs/Boletim%20de%20pre%C3%A7os%20%2003%2001%202024_0.pdf\n",
            " create mode 100644 ceasa_pdfs/Boletim%20de%20pre%C3%A7os%20%2004%2001%202024_0.pdf\n",
            " create mode 100644 ceasa_pdfs/Boletim%20de%20pre%C3%A7os%20%2005%2001%202024.pdf\n",
            " create mode 100644 ceasa_pdfs/Boletim%20de%20pre%C3%A7os%20%2008%2001%202024.pdf\n",
            " create mode 100644 ceasa_pdfs/Boletim%20de%20pre%C3%A7os%20%2009%2001%202024.pdf\n",
            " create mode 100644 ceasa_pdfs/Boletim%20de%20pre%C3%A7os%20%2010%2001%202024.pdf\n",
            " create mode 100644 ceasa_pdfs/Boletim%20de%20pre%C3%A7os%20%2011%2001%202024.pdf\n",
            " create mode 100644 ceasa_pdfs/Boletim%20de%20pre%C3%A7os%20%2012%2001%202024.pdf\n",
            " create mode 100644 ceasa_pdfs/Boletim%20de%20pre%C3%A7os%20%2015%2001%202024.pdf\n",
            " create mode 100644 ceasa_pdfs/Boletim%20de%20pre%C3%A7os%20%2016%2001%202024.pdf\n",
            " create mode 100644 ceasa_pdfs/Boletim%20de%20pre%C3%A7os%20%2017%2001%202024.pdf\n",
            " create mode 100644 ceasa_pdfs/Boletim%20de%20pre%C3%A7os%20%2018%2001%202024.pdf\n",
            " create mode 100644 ceasa_pdfs/Boletim%20de%20pre%C3%A7os%20%2019%2001%202024.pdf\n",
            " create mode 100644 ceasa_pdfs/Boletim%20de%20pre%C3%A7os%20%2022%2001%202024.pdf\n",
            " create mode 100644 ceasa_pdfs/Boletim%20de%20pre%C3%A7os%20%2023%2001%202024_0.pdf\n",
            " create mode 100644 ceasa_pdfs/Boletim%20de%20pre%C3%A7os%20%2024%2001%202024_0.pdf\n",
            " create mode 100644 ceasa_pdfs/Boletim%20de%20pre%C3%A7os%20%2025%2001%202024_0.pdf\n",
            " create mode 100644 ceasa_pdfs/Boletim%20de%20pre%C3%A7os%20%2026%2001%202024_0.pdf\n",
            " create mode 100644 ceasa_pdfs/Boletim%20de%20pre%C3%A7os%20%2029%2001%202024_0.pdf\n",
            " create mode 100644 ceasa_pdfs/Boletim%20de%20pre%C3%A7os%20%2030%2001%202024_0.pdf\n",
            " create mode 100644 ceasa_pdfs/Boletim%20de%20pre%C3%A7os%20%2031%2001%202024_0.pdf\n",
            " create mode 100644 ceasa_prices.csv\n",
            " create mode 100644 ceasa_prices_com_data.csv\n",
            " create mode 100644 ceasa_prices_filtrado.csv\n",
            " create mode 100644 ceasa_prices_renomeado.csv\n",
            " create mode 100755 sample_data/README.md\n",
            " create mode 100755 sample_data/anscombe.json\n",
            " create mode 100644 sample_data/california_housing_test.csv\n",
            " create mode 100644 sample_data/california_housing_train.csv\n",
            " create mode 100644 sample_data/mnist_test.csv\n",
            " create mode 100644 sample_data/mnist_train_small.csv\n",
            "/bin/bash: -c: line 1: syntax error near unexpected token `newline'\n",
            "/bin/bash: -c: line 1: `git remote add origin <https://github.com/Dexheimer/cotacao_ceasa.git>'\n",
            "fatal: 'origin' does not appear to be a git repository\n",
            "fatal: Could not read from remote repository.\n",
            "\n",
            "Please make sure you have the correct access rights\n",
            "and the repository exists.\n"
          ]
        }
      ]
    },
    {
      "cell_type": "code",
      "source": [
        "!git init\n",
        "!git config --global user.email \"andre.dexheimer@gmail.com\"\n",
        "!git config --global user.name \"Dex\"\n",
        "!git add .\n",
        "!git commit -m \"First commit\"\n",
        "!git remote add origin <https://github.com/Dexheimer/cotacao_ceasa.git>\n",
        "!git push -u origin master"
      ],
      "metadata": {
        "colab": {
          "base_uri": "https://localhost:8080/"
        },
        "id": "jCrJIXg8ZQ0_",
        "outputId": "30814c77-53c3-4637-cc89-3b8f0a6ff157"
      },
      "execution_count": 32,
      "outputs": [
        {
          "output_type": "stream",
          "name": "stdout",
          "text": [
            "Reinitialized existing Git repository in /content/.git/\n",
            "On branch master\n",
            "nothing to commit, working tree clean\n",
            "/bin/bash: -c: line 1: syntax error near unexpected token `newline'\n",
            "/bin/bash: -c: line 1: `git remote add origin <https://github.com/Dexheimer/cotacao_ceasa.git>'\n",
            "fatal: could not read Username for 'https://github.com': No such device or address\n"
          ]
        }
      ]
    },
    {
      "cell_type": "code",
      "source": [
        "!git add\n",
        "!git commit -m \"First commit\"\n",
        "!git remote add origin git@github.com:Dexheimer/cotacao_ceasa.git  # Se estiver usando SSH\n",
        "!git push -u origin master\n",
        "\n",
        "\n"
      ],
      "metadata": {
        "colab": {
          "base_uri": "https://localhost:8080/"
        },
        "id": "eerh-8OqZvTh",
        "outputId": "4137ee25-64bf-458e-be98-b8b162a52770"
      },
      "execution_count": 37,
      "outputs": [
        {
          "output_type": "stream",
          "name": "stdout",
          "text": [
            "Nothing specified, nothing added.\n",
            "\u001b[33mhint: Maybe you wanted to say 'git add .'?\u001b[m\n",
            "\u001b[33mhint: Turn this message off by running\u001b[m\n",
            "\u001b[33mhint: \"git config advice.addEmptyPathspec false\"\u001b[m\n",
            "On branch master\n",
            "nothing to commit, working tree clean\n",
            "error: remote origin already exists.\n",
            "fatal: could not read Username for 'https://github.com': No such device or address\n"
          ]
        }
      ]
    }
  ]
}